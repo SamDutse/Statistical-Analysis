{
 "cells": [
  {
   "cell_type": "markdown",
   "metadata": {},
   "source": [
    "### **Understanding the Problem**\n",
    "\n",
    "Two candidates, Candidate A and Candidate B, are contesting for a political office. A survey was conducted to determine the proportion of people likely to vote for each candidate. Candidate A's campaign team wants to understand their confidence in winning the election by calculating a **confidence interval** for the proportion of people supporting Candidate A.\n",
    "\n",
    "---\n",
    "\n",
    "### **Plan**\n",
    "\n",
    "1. **Data Collection**:\n",
    "   - Obtain survey results (sample size \\( n \\)) and the proportion of voters supporting Candidate A (\\( p \\)).\n",
    "\n",
    "2. **Formulate the Confidence Interval**:\n",
    "   - Use the formula for the confidence interval of a population proportion:\n",
    "     \\[\n",
    "     \\text{Confidence Interval} = p \\pm Z \\cdot \\sqrt{\\frac{p(1-p)}{n}}\n",
    "     \\]\n",
    "   - \\( Z \\): The Z-score for the desired confidence level (e.g., 1.96 for 95%).\n",
    "\n",
    "3. **Steps to Calculate**:\n",
    "   1. Compute the sample proportion \\( p \\) (e.g., percentage of people supporting Candidate A from the survey).\n",
    "   2. Determine the standard error using \\( SE = \\sqrt{\\frac{p(1-p)}{n}} \\).\n",
    "   3. Calculate the margin of error: \\( \\text{Margin of Error} = Z \\cdot SE \\).\n",
    "   4. Compute the confidence interval bounds:\n",
    "      \\[\n",
    "      [p - \\text{Margin of Error}, p + \\text{Margin of Error}]\n",
    "      \\]\n",
    "\n",
    "4. **Decision**:\n",
    "   - Use the confidence interval to determine the range of support Candidate A likely has in the population.\n",
    "\n",
    "---\n",
    "\n",
    "### **Python Code Solution**\n"
   ]
  },
  {
   "cell_type": "code",
   "execution_count": 1,
   "metadata": {},
   "outputs": [
    {
     "name": "stdout",
     "output_type": "stream",
     "text": [
      "Proportion of votes for Candidate A: 0.57\n",
      "Standard Error: 0.0157\n",
      "Margin of Error: 0.0307\n",
      "Confidence Interval: [0.54, 0.60]\n",
      "Candidate A is likely to win based on the confidence interval.\n"
     ]
    }
   ],
   "source": [
    "import math\n",
    "\n",
    "# Step 1: Survey results\n",
    "sample_size = 1000  # Total number of respondents\n",
    "candidate_a_votes = 570  # Votes for Candidate A\n",
    "confidence_level = 0.95  # Desired confidence level (95%)\n",
    "\n",
    "# Step 2: Calculate sample proportion\n",
    "p = candidate_a_votes / sample_size  # Proportion of voters for Candidate A\n",
    "\n",
    "# Step 3: Find the Z-score for 95% confidence level\n",
    "z_score = 1.96  # Z-score for 95% confidence\n",
    "\n",
    "# Step 4: Calculate Standard Error (SE)\n",
    "standard_error = math.sqrt((p * (1 - p)) / sample_size)\n",
    "\n",
    "# Step 5: Calculate Margin of Error\n",
    "margin_of_error = z_score * standard_error\n",
    "\n",
    "# Step 6: Compute Confidence Interval\n",
    "lower_bound = p - margin_of_error\n",
    "upper_bound = p + margin_of_error\n",
    "\n",
    "# Step 7: Display the results\n",
    "print(f\"Proportion of votes for Candidate A: {p:.2f}\")\n",
    "print(f\"Standard Error: {standard_error:.4f}\")\n",
    "print(f\"Margin of Error: {margin_of_error:.4f}\")\n",
    "print(f\"Confidence Interval: [{lower_bound:.2f}, {upper_bound:.2f}]\")\n",
    "\n",
    "# Interpretation\n",
    "if lower_bound > 0.5:\n",
    "    print(\"Candidate A is likely to win based on the confidence interval.\")\n",
    "else:\n",
    "    print(\"Candidate A's chances of winning are uncertain.\")\n"
   ]
  },
  {
   "cell_type": "code",
   "execution_count": null,
   "metadata": {},
   "outputs": [],
   "source": []
  }
 ],
 "metadata": {
  "kernelspec": {
   "display_name": "base",
   "language": "python",
   "name": "python3"
  },
  "language_info": {
   "codemirror_mode": {
    "name": "ipython",
    "version": 3
   },
   "file_extension": ".py",
   "mimetype": "text/x-python",
   "name": "python",
   "nbconvert_exporter": "python",
   "pygments_lexer": "ipython3",
   "version": "3.11.7"
  }
 },
 "nbformat": 4,
 "nbformat_minor": 2
}
