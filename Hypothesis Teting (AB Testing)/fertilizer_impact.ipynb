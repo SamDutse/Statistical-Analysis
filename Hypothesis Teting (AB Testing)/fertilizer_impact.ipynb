{
 "cells": [
  {
   "cell_type": "markdown",
   "metadata": {},
   "source": [
    "### **Testing the Impact of a New Fertilizer on Crop Yield**\n",
    "\n",
    "---\n",
    "\n",
    "### **Understanding the Problem**\n",
    "A fertilizer company in Nigeria wants to test whether a new fertilizer increases crop yield compared to traditional methods. Farmers in selected regions are provided with the new fertilizer, and their crop yields are compared to those using traditional fertilizer.\n",
    "\n",
    "---\n",
    "\n",
    "### **Plan**\n",
    "\n",
    "1. **Define Hypotheses**:\n",
    "   - Null Hypothesis (H₀): The new fertilizer does not increase crop yield (mean yield = traditional yield).\n",
    "   - Alternative Hypothesis (H₁): The new fertilizer increases crop yield (mean yield > traditional yield).\n",
    "\n",
    "2. **Select a Significance Level (α)**:\n",
    "   - Use a significance level of 0.05.\n",
    "\n",
    "3. **Collect and Analyze Data**:\n",
    "   - Randomly assign farms to two groups:\n",
    "     - **Group A**: Farms using the new fertilizer.\n",
    "     - **Group B**: Farms using traditional fertilizer.\n",
    "   - Record the crop yields for both groups after the farming season.\n",
    "   - Use a statistical test (e.g., independent t-test) to compare the mean yields of the two groups.\n",
    "\n",
    "4. **Make a Decision**:\n",
    "   - If the p-value ≤ 0.05, reject H₀ and conclude that the new fertilizer increases crop yield.\n",
    "   - Otherwise, fail to reject H₀.\n",
    "\n",
    "---\n",
    "\n",
    "### **Implementation**"
   ]
  },
  {
   "cell_type": "code",
   "execution_count": 1,
   "metadata": {},
   "outputs": [
    {
     "name": "stdout",
     "output_type": "stream",
     "text": [
      "Test Statistic: 3.946279095601682\n",
      "P-Value: 0.00021692578547756098\n",
      "Conclusion: Reject H₀: The new fertilizer increases crop yield.\n"
     ]
    }
   ],
   "source": [
    "import numpy as np\n",
    "from scipy.stats import ttest_ind\n",
    "\n",
    "# Step 1: Simulate crop yield data\n",
    "np.random.seed(42)  # For reproducibility\n",
    "new_fertilizer_yield = np.random.normal(loc=50, scale=5, size=30)  # Mean yield = 50 bags/hectare\n",
    "traditional_yield = np.random.normal(loc=45, scale=5, size=30)     # Mean yield = 45 bags/hectare\n",
    "\n",
    "# Step 2: Perform an independent t-test\n",
    "# Null Hypothesis: Mean yields are equal\n",
    "test_stat, p_value = ttest_ind(new_fertilizer_yield, traditional_yield)\n",
    "\n",
    "# Step 3: Interpret results\n",
    "alpha = 0.05  # Significance level\n",
    "if p_value <= alpha:\n",
    "    conclusion = \"Reject H₀: The new fertilizer increases crop yield.\"\n",
    "else:\n",
    "    conclusion = \"Fail to reject H₀: No significant evidence that the new fertilizer increases crop yield.\"\n",
    "\n",
    "# Output results\n",
    "print(\"Test Statistic:\", test_stat)\n",
    "print(\"P-Value:\", p_value)\n",
    "print(\"Conclusion:\", conclusion)"
   ]
  }
 ],
 "metadata": {
  "kernelspec": {
   "display_name": "base",
   "language": "python",
   "name": "python3"
  },
  "language_info": {
   "codemirror_mode": {
    "name": "ipython",
    "version": 3
   },
   "file_extension": ".py",
   "mimetype": "text/x-python",
   "name": "python",
   "nbconvert_exporter": "python",
   "pygments_lexer": "ipython3",
   "version": "3.11.7"
  }
 },
 "nbformat": 4,
 "nbformat_minor": 2
}
