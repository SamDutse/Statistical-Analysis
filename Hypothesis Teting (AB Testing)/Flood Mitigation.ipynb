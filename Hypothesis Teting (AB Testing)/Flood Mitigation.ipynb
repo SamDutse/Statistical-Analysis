{
 "cells": [
  {
   "cell_type": "markdown",
   "id": "f55087f6-4881-4308-90e4-cc2811a53638",
   "metadata": {},
   "source": [
    "# Testing the effectiveness of improved drainage systems\n",
    "\n",
    "# Problem Statement\n",
    "Testing whether improved drainage systems reduce flooding in urban areas.\n",
    "\n"
   ]
  },
  {
   "cell_type": "markdown",
   "id": "1ea03f07-cc26-4104-a077-c93af1eaf477",
   "metadata": {},
   "source": [
    "# Implementation"
   ]
  },
  {
   "cell_type": "code",
   "execution_count": 4,
   "id": "c1dca5fc-530c-4a24-a361-c5455502f35e",
   "metadata": {},
   "outputs": [
    {
     "name": "stdout",
     "output_type": "stream",
     "text": [
      "Sample Mean: 11.435559312446888 cm\n",
      "T-Statistics: -7.230780099711218\n",
      "P-Value: 5.821413998591018e-08\n",
      "Reject the null hypothesis: improved drainage systems significantly reduce flooding.\n"
     ]
    }
   ],
   "source": [
    "import numpy as np\n",
    "from scipy.stats import ttest_1samp\n",
    "\n",
    "# step 1: Define the population mean(hypothesized mean flood level)\n",
    "population_mean = 15 #e.g average flood level in cm before improved drainage\n",
    "\n",
    "# step 2: Simulate sample data (flood levels in urban areas with improved drainage)\n",
    "np.random.seed(42) # For reproducibility\n",
    "sample_data = np.random.normal(loc = 12, scale = 3, size = 30)\n",
    "\n",
    "# step 3: Perform the one-sample t-test\n",
    "t_statistic, p_value = ttest_1samp(sample_data, population_mean)\n",
    "\n",
    "# step 4: set the significance level\n",
    "alpha = 0.05\n",
    "\n",
    "# step 5: Interpret the results\n",
    "print(f\"Sample Mean: {np.mean(sample_data):} cm\")\n",
    "print(f\"T-Statistics: {t_statistic:}\")\n",
    "print(f\"P-Value: {p_value:}\")\n",
    "\n",
    "if p_value < alpha:\n",
    "    print(\"Reject the null hypothesis: improved drainage systems significantly reduce flooding.\")\n",
    "else:\n",
    "    print(\"Fail to reject the null hypothesis: No significant evidence that improved drainage systems reduce flooding.\")"
   ]
  },
  {
   "cell_type": "code",
   "execution_count": null,
   "id": "86124694-137e-4c37-822a-d009c50791b1",
   "metadata": {},
   "outputs": [],
   "source": []
  }
 ],
 "metadata": {
  "kernelspec": {
   "display_name": "Python 3 (ipykernel)",
   "language": "python",
   "name": "python3"
  },
  "language_info": {
   "codemirror_mode": {
    "name": "ipython",
    "version": 3
   },
   "file_extension": ".py",
   "mimetype": "text/x-python",
   "name": "python",
   "nbconvert_exporter": "python",
   "pygments_lexer": "ipython3",
   "version": "3.12.7"
  }
 },
 "nbformat": 4,
 "nbformat_minor": 5
}
