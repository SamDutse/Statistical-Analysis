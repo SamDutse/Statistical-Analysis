{
 "cells": [
  {
   "cell_type": "markdown",
   "id": "7506cff9-4604-474b-ab23-6f274a361269",
   "metadata": {},
   "source": [
    "\n",
    "### Testing if adopting climate-resilient crops increases yields during droughts\n",
    "\n",
    "---\n",
    "\n",
    "### **Problem Statement or Situation**\n",
    "Does adopting climate-resilient crops increase yields during droughts?\n",
    "\n",
    "- **Hypotheses**:\n",
    "  - Null Hypothesis (H₀): Adopting climate-resilient crops does not increase yields during droughts.\n",
    "  - Alternative Hypothesis (H₁): Adopting climate-resilient crops increases yields during drought.\n",
    "\n",
    "---\n",
    "\n",
    "### **Plan**\n",
    "\n",
    "1. **Define Hypotheses**:\n",
    "   - Set up the null (H₀) and alternative (H₁) hypotheses.\n",
    "     - H₀: μ = 0 (mean reduction is 0; no increase ).\n",
    "     - H₁: μ > 0 (mean reduction is greater than 0; there is increase).\n",
    "\n",
    "2. **Select a Significance Level (α)**:\n",
    "   - Choose a threshold for statistical significance, e.g., α = 0.05.\n",
    "\n",
    "3. **Collect and Analyze Data**:\n",
    "   - compare crop yields :\n",
    "     - Collect crop yields data from:\n",
    "       A: From farmers who plants traditional crops\n",
    "       B: From farmers who plants climate-resilient crops\n",
    "     - Crop yield during droughts(measured in kg/ha)\n",
    "   - Calculate the test statistic (e.g., t-statistic for a t-test) and the p-value.\n",
    "\n",
    "4. **Make a Decision**:\n",
    "   - If the p-value ≤ α, reject H₀ and conclude adopting climate-resilient crops increase yields during droughts.\n",
    "   - Otherwise, fail to reject H₀. and conclude climate-resilient crops does not increase yields during droughts."
   ]
  },
  {
   "cell_type": "code",
   "execution_count": null,
   "id": "0c0c7608-90a5-4b71-8a94-b7f7e87481ac",
   "metadata": {},
   "outputs": [],
   "source": [
    "Actions:"
   ]
  },
  {
   "cell_type": "code",
   "execution_count": 5,
   "id": "6df12846-577a-46fa-a037-0b90131d4f11",
   "metadata": {},
   "outputs": [
    {
     "name": "stdout",
     "output_type": "stream",
     "text": [
      "T-statistic: -5.865445002759737\n",
      "p-value: 1.8535618997439845e-08\n",
      "Reject H0: Adopting climate-resilient crops increases yields during droughts.\n"
     ]
    }
   ],
   "source": [
    "#Step 1: Import necessary libraries\n",
    "\n",
    "import numpy as np\n",
    "from scipy.stats import ttest_ind\n",
    "np.random.seed(7) #For reproductivity\n",
    "\n",
    "\n",
    "#Step 2: Define sample means; loc\n",
    "\n",
    "trad_mean = 2000 #crop mean_yield, meaured in kg/ha\n",
    "clmrt_mean = 2500 #crop mean_yield, meaured in kg/ha\n",
    "\n",
    "#Step 3: Define sample standard deviations; scale\n",
    "\n",
    "trad_std = 500\n",
    "clmrt_std = 600\n",
    "\n",
    "#Step 4: Define sample sizes; size\n",
    "\n",
    "trad_n = 100\n",
    "clmrt_n = 100\n",
    "\n",
    "#Step 5: Simulate data for trad_crop and clmrt_crop\n",
    "\n",
    "trad_crop = np.random.normal(loc = 2000, scale = 500, size = 100)\n",
    "clmrt_crop = np.random.normal(loc = 2500, scale = 600, size = 100)\n",
    "\n",
    "\n",
    "#Step 5: Calculate t-statistic; A two sample t-test\n",
    "\n",
    "t_stat, p_value = ttest_ind(trad_crop, clmrt_crop)\n",
    "\n",
    "\n",
    "#print(f'T-Statistic: {t_stat}, P-Value: {p_value}'\n",
    "\n",
    "#Step 6: Print results\n",
    "\n",
    "print(\"T-statistic:\", t_stat)\n",
    "\n",
    "print(\"p-value:\", p_value)\n",
    "\n",
    "# Step 7: Interpret results\n",
    "\n",
    "alpha = 0.05 #significance level\n",
    "if p_value < alpha:\n",
    "    print(\"Reject H0: Adopting climate-resilient crops increases yields during droughts.\")\n",
    "else:\n",
    "    print(\"Fail to reject H0: Adopting climate-resilient crops does not increase yields during droughts.\")\n",
    "\n",
    "\n",
    "\n",
    "\n"
   ]
  },
  {
   "cell_type": "code",
   "execution_count": null,
   "id": "1f895283-141e-4cab-9bd1-db0a038d484f",
   "metadata": {},
   "outputs": [],
   "source": []
  }
 ],
 "metadata": {
  "kernelspec": {
   "display_name": "Python 3 (ipykernel)",
   "language": "python",
   "name": "python3"
  },
  "language_info": {
   "codemirror_mode": {
    "name": "ipython",
    "version": 3
   },
   "file_extension": ".py",
   "mimetype": "text/x-python",
   "name": "python",
   "nbconvert_exporter": "python",
   "pygments_lexer": "ipython3",
   "version": "3.12.7"
  }
 },
 "nbformat": 4,
 "nbformat_minor": 5
}
