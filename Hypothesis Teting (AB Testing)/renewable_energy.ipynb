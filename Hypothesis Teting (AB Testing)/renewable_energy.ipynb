{
 "cells": [
  {
   "cell_type": "markdown",
   "metadata": {},
   "source": [
    "### **Assessing the Impact of Solar Panel Installations on Household Energy Costs.**\n",
    "\n",
    "---\n",
    "\n",
    "### **Understanding the problem**\n",
    "Due to recent increases in power tariffs and rising energy costs in Nigeria, households are seeking alternative ways to reduce their electricity expenses. Solar panel installations are being promoted as a cost-effective and sustainable solution. A non-governmental organization wants to evaluate whether solar panel adoption significantly reduces household energy costs by comparing the energy expenses of households with and without solar panels.\n",
    "\n",
    "---\n",
    "\n",
    "### **Plan**\n",
    "\n",
    "\n",
    "1. **Define Hypotheses**:\n",
    "\n",
    "    - Null Hypothesis (H₀): Solar panel adoption does not reduce household energy costs (mean energy costs in households with solar panels = households without solar panels).\n",
    "    - Alternative Hypothesis (H₁): Solar panel adoption reduces household energy costs (mean energy costs in households with solar panels < households without solar panels).\n",
    "\n",
    "2. **Select a Significance Level (α)**:\n",
    "    - Use a standard significance level, e.g., α = 0.05.\n",
    "\n",
    "3. **Collect and Analyze Data**:\n",
    "    - Select two datasets:\n",
    "        - **Dataset 1**: Monthly energy costs for households without solar panels.\n",
    "        - **Dataset 2**: Monthly energy costs for households with solar panels.\n",
    "    - Perform an independent two-sample t-test to compare the means of the two datasets:\n",
    "        - Check for assumptions like normality and equal variances.\n",
    "        - Compute the test statistic (t) and the p-value.\n",
    "\n",
    "4. **Make a Decision**:\n",
    "\n",
    "    - If the p-value ≤ 0.05, reject H₀ and conclude that solar panel adoption significantly reduces household energy costs.\n",
    "    - Otherwise, fail to reject H₀.\n",
    "\n",
    "---\n",
    "\n",
    "### **Implementation**"
   ]
  },
  {
   "cell_type": "code",
   "execution_count": 34,
   "metadata": {},
   "outputs": [],
   "source": [
    "import numpy as np\n",
    "from scipy import stats"
   ]
  },
  {
   "cell_type": "code",
   "execution_count": 35,
   "metadata": {},
   "outputs": [
    {
     "name": "stdout",
     "output_type": "stream",
     "text": [
      "Test Statistics: 16.635067590825564\n",
      "P_Value: 9.585330376296214e-24\n",
      "Conclusion: Reject H₀: Solar panel adoption significantly reduces household energy cost.\n"
     ]
    }
   ],
   "source": [
    "# For reproducibility\n",
    "np.random.seed(42)\n",
    "\n",
    "# step 1: Simulate monthly energy costs data\n",
    "dataset1 = np.random.normal(loc = 5000, scale = 500, size = 30)\n",
    "dataset2 = np.random.normal(loc = 3000, scale = 500, size = 30)\n",
    "\n",
    "# Step 2: Perform an independent t-test\n",
    "# Null Hypothesis: mean energy costs in households with solar panels = households without solar panels\n",
    "test_stat, p_value = stats.ttest_ind(dataset1, dataset2)\n",
    "\n",
    "# Step 3: Interpret results\n",
    "alpha = 0.05\n",
    "if p_value <= alpha:\n",
    "    conclusion = 'Reject H₀: Solar panel adoption significantly reduces household energy cost.'\n",
    "else:\n",
    "    conclusion = 'Failed to reject H₀: No significant evidence that solar panel adoption reduces household energy cost.'\n",
    "\n",
    "# Output results\n",
    "print(f'Test Statistics: {test_stat}')\n",
    "print(f'P_Value: {p_value}')\n",
    "print(f'Conclusion: {conclusion}')"
   ]
  }
 ],
 "metadata": {
  "kernelspec": {
   "display_name": "tcm_venv",
   "language": "python",
   "name": "python3"
  },
  "language_info": {
   "codemirror_mode": {
    "name": "ipython",
    "version": 3
   },
   "file_extension": ".py",
   "mimetype": "text/x-python",
   "name": "python",
   "nbconvert_exporter": "python",
   "pygments_lexer": "ipython3",
   "version": "3.10.15"
  }
 },
 "nbformat": 4,
 "nbformat_minor": 2
}
