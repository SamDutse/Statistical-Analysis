{
 "cells": [
  {
   "cell_type": "markdown",
   "metadata": {},
   "source": [
    "### **Testing the Effectiveness of a New Drug**\n",
    "\n",
    "---\n",
    "\n",
    "### **Problem Statement**\n",
    "A pharmaceutical company wants to test if a new drug is effective in reducing blood pressure compared to a placebo. \n",
    "\n",
    "- **Hypotheses**:\n",
    "  - Null Hypothesis (H₀): The new drug has no effect on blood pressure (mean blood pressure reduction = 0).\n",
    "  - Alternative Hypothesis (H₁): The new drug reduces blood pressure (mean blood pressure reduction > 0).\n",
    "\n",
    "---\n",
    "\n",
    "### **Plan**\n",
    "\n",
    "1. **Define Hypotheses**:\n",
    "   - Set up the null (H₀) and alternative (H₁) hypotheses.\n",
    "     - H₀: μ = 0 (mean reduction is 0; no effect).\n",
    "     - H₁: μ > 0 (mean reduction is greater than 0; drug is effective).\n",
    "\n",
    "2. **Select a Significance Level (α)**:\n",
    "   - Choose a threshold for statistical significance, e.g., α = 0.05.\n",
    "\n",
    "3. **Collect and Analyze Data**:\n",
    "   - Conduct a clinical trial:\n",
    "     - Randomly divide participants into two groups: one receives the drug, and the other receives a placebo.\n",
    "     - Measure blood pressure reduction after treatment.\n",
    "   - Calculate the test statistic (e.g., t-statistic for a t-test) and the p-value.\n",
    "\n",
    "4. **Make a Decision**:\n",
    "   - If the p-value ≤ α, reject H₀ and conclude that the drug is effective.\n",
    "   - Otherwise, fail to reject H₀."
   ]
  },
  {
   "cell_type": "markdown",
   "metadata": {},
   "source": [
    "### **Implementation**"
   ]
  },
  {
   "cell_type": "code",
   "execution_count": 1,
   "metadata": {},
   "outputs": [
    {
     "name": "stdout",
     "output_type": "stream",
     "text": [
      "Test Statistic: 14.06938946464388\n",
      "P-Value: 1.731815693605259e-14\n",
      "Conclusion: Reject H₀: The drug is effective in reducing blood pressure.\n"
     ]
    }
   ],
   "source": [
    "import numpy as np\n",
    "from scipy.stats import ttest_1samp\n",
    "\n",
    "# Step 1: Simulate clinical trial data\n",
    "np.random.seed(42)  # For reproducibility\n",
    "drug_group = np.random.normal(loc=5, scale=2, size=30)  # Mean reduction of 5 mmHg\n",
    "placebo_group = np.random.normal(loc=0, scale=2, size=30)  # Mean reduction of 0 mmHg\n",
    "\n",
    "# Step 2: Perform a one-sample t-test\n",
    "# Null Hypothesis: Mean reduction = 0\n",
    "test_stat, p_value = ttest_1samp(drug_group, popmean=0)\n",
    "\n",
    "# Step 3: Interpret results\n",
    "alpha = 0.05  # Significance level\n",
    "if p_value <= alpha:\n",
    "    conclusion = \"Reject H₀: The drug is effective in reducing blood pressure.\"\n",
    "else:\n",
    "    conclusion = \"Fail to reject H₀: No significant evidence that the drug is effective.\"\n",
    "\n",
    "# Output results\n",
    "print(\"Test Statistic:\", test_stat)\n",
    "print(\"P-Value:\", p_value)\n",
    "print(\"Conclusion:\", conclusion)"
   ]
  }
 ],
 "metadata": {
  "kernelspec": {
   "display_name": "base",
   "language": "python",
   "name": "python3"
  },
  "language_info": {
   "codemirror_mode": {
    "name": "ipython",
    "version": 3
   },
   "file_extension": ".py",
   "mimetype": "text/x-python",
   "name": "python",
   "nbconvert_exporter": "python",
   "pygments_lexer": "ipython3",
   "version": "3.12.4"
  }
 },
 "nbformat": 4,
 "nbformat_minor": 2
}
