{
 "cells": [
  {
   "cell_type": "markdown",
   "metadata": {},
   "source": []
  },
  {
   "cell_type": "markdown",
   "metadata": {},
   "source": [
    "### **Assessing the Impact of Modern Farming Techniques on Maize Yields.**\n",
    "\n",
    "---\n",
    "\n",
    "### **Understanding the Problem**\n",
    "Due to the need for increased agricultural productivity and food security in Nigeria, farmers are exploring modern farming techniques to improve crop yields. A government agency wants to evaluate whether adopting modern farming techniques significantly increases maize yields compared to traditional methods. This will help inform policy decisions and agricultural extension services.\n",
    "\n",
    "---\n",
    "\n",
    "### **Plan**\n",
    "\n",
    "1. **Define Hypotheses**:\n",
    "    - **Null Hypothesis (H₀)**: Modern farming techniques do not increase maize yields (mean yields from modern techniques = mean yields from traditional techniques).\n",
    "    - **Alternative Hypothesis (H₁)**: Modern farming techniques increase maize yields (mean yields from modern techniques > mean yields from traditional techniques).\n",
    "\n",
    "2. **Select a Significance Level (α)**:\n",
    "    - Use a standard significance level, e.g., α = 0.05.\n",
    "\n",
    "3. **Collect and Analyze Data**:\n",
    "    - Select two datasets:\n",
    "        - **Dataset 1**: Maize yields (bags per hectare) from farmers using traditional farming techniques.\n",
    "        - **Dataset 2**: Maize yields (bags per hectare) from farmers using modern farming techniques.\n",
    "    - Perform an independent two-sample t-test to compare the means of the two datasets:\n",
    "        - Check for assumptions like normality and equal variances.\n",
    "        - Compute the test statistic (t) and the p-value.\n",
    "\n",
    "4. **Make a Decision**:\n",
    "    - If the p-value ≤ 0.05, reject H₀ and conclude that modern farming techniques significantly increase maize yields.\n",
    "    - Otherwise, fail to reject H₀.\n",
    "\n",
    "---\n",
    "\n",
    "### **Implementation**\n",
    "\n",
    "1. **Data Collection**:\n",
    "    - Gather data on maize yields from two groups of farmers:\n",
    "        - Group 1: Farmers using traditional farming techniques.\n",
    "        - Group 2: Farmers using modern farming techniques.\n",
    "    - Ensure the datasets are comparable in terms of sample size, farming conditions, and other relevant factors.\n",
    "\n",
    "2. **Data Analysis**:\n",
    "    - Perform exploratory data analysis (EDA) to check for normality and equal variances.\n",
    "    - Conduct an independent two-sample t-test to compare the mean yields of the two groups.\n",
    "\n",
    "3. **Interpret Results**:\n",
    "    - If the p-value is less than or equal to 0.05, conclude that modern farming techniques significantly increase maize yields.\n",
    "    - If the p-value is greater than 0.05, conclude that there is no significant difference in yields between the two techniques.\n",
    "\n",
    "---\n",
    "\n",
    "### **Conclusion**\n",
    "By following this plan, the government agency can determine whether modern farming techniques are effective in increasing maize yields. This analysis will provide evidence-based insights to guide agricultural policies and support farmers in adopting more productive practices."
   ]
  },
  {
   "cell_type": "code",
   "execution_count": 1,
   "metadata": {},
   "outputs": [],
   "source": [
    "import numpy as np\n",
    "from scipy import stats"
   ]
  },
  {
   "cell_type": "code",
   "execution_count": null,
   "metadata": {},
   "outputs": [
    {
     "name": "stdout",
     "output_type": "stream",
     "text": [
      "Test Statistics: -4.512913234547554\n",
      "P_Value: 3.176506547470172e-05\n",
      "Conclusion: Reject H₀:  modern farming techniques significantly increase maize yields.\n"
     ]
    }
   ],
   "source": [
    "# For reproducibility\n",
    "np.random.seed(42)\n",
    "\n",
    "# step 1: Simulate monthly energy costs data\n",
    "dataset1 = np.random.normal(loc = 10000, scale = 5000, size = 30)\n",
    "dataset2 = np.random.normal(loc = 15000, scale = 5000, size = 30)\n",
    "\n",
    "# Step 2: Perform an independent t-test\n",
    "# Null Hypothesis: mean energy costs in households with solar panels = households without solar panels\n",
    "test_stat, p_value = stats.ttest_ind(dataset1, dataset2)\n",
    "\n",
    "# Step 3: Interpret results\n",
    "alpha = 0.05\n",
    "if p_value <= alpha:\n",
    "    conclusion = 'Reject H₀:  modern farming techniques significantly increase maize yields.'\n",
    "else:\n",
    "    conclusion = 'Failed to reject H₀: No significant difference in yields between the two techniques..'\n",
    "\n",
    "# Output results\n",
    "print(f'Test Statistics: {test_stat}')\n",
    "print(f'P_Value: {p_value}')\n",
    "print(f'Conclusion: {conclusion}')"
   ]
  }
 ],
 "metadata": {
  "kernelspec": {
   "display_name": "base",
   "language": "python",
   "name": "python3"
  },
  "language_info": {
   "codemirror_mode": {
    "name": "ipython",
    "version": 3
   },
   "file_extension": ".py",
   "mimetype": "text/x-python",
   "name": "python",
   "nbconvert_exporter": "python",
   "pygments_lexer": "ipython3",
   "version": "3.12.7"
  }
 },
 "nbformat": 4,
 "nbformat_minor": 2
}
