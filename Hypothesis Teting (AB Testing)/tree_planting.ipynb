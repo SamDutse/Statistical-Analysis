{
 "cells": [
  {
   "cell_type": "markdown",
   "metadata": {},
   "source": [
    "### **Assessing the Impact of Tree Planting on Local Temperatures**\n",
    "\n",
    "---\n",
    "\n",
    "### **Understanding the Problem**\n",
    "With increasing urbanization in Nigeria, local temperatures in urban areas are rising due to the **urban heat island effect**. A city council implements a tree-planting initiative to reduce temperatures in affected areas. They want to test if the tree planting significantly lowers average temperatures compared to areas without trees.\n",
    "\n",
    "---\n",
    "\n",
    "### **Plan**\n",
    "\n",
    "1. **Define Hypotheses**:\n",
    "   - Null Hypothesis (H₀): Tree planting has no effect on local temperatures (mean temperature in treated areas = untreated areas).\n",
    "   - Alternative Hypothesis (H₁): Tree planting reduces local temperatures (mean temperature in treated areas < untreated areas).\n",
    "\n",
    "2. **Select a Significance Level (α)**:\n",
    "   - Use a standard significance level, e.g., α = 0.05.\n",
    "\n",
    "3. **Collect and Analyze Data**:\n",
    "   - Select two sets of areas:\n",
    "     - **Treated Areas**: Areas where trees have been planted.\n",
    "     - **Control Areas**: Areas without tree planting.\n",
    "   - Measure daily average temperatures over a fixed period in both sets of areas.\n",
    "   - Use a statistical test (e.g., independent t-test) to compare the mean temperatures.\n",
    "\n",
    "4. **Make a Decision**:\n",
    "   - If the p-value ≤ 0.05, reject H₀ and conclude that tree planting significantly reduces temperatures.\n",
    "   - Otherwise, fail to reject H₀.\n",
    "\n",
    "---\n",
    "\n",
    "### **Implementation**"
   ]
  },
  {
   "cell_type": "code",
   "execution_count": 1,
   "metadata": {},
   "outputs": [
    {
     "name": "stdout",
     "output_type": "stream",
     "text": [
      "Test Statistic: -6.872731683285855\n",
      "P-Value: 5.877565294167335e-10\n",
      "Conclusion: Reject H₀: Tree planting significantly reduces local temperatures.\n"
     ]
    }
   ],
   "source": [
    "import numpy as np\n",
    "from scipy.stats import ttest_ind\n",
    "\n",
    "# Step 1: Simulate temperature data\n",
    "np.random.seed(42)  # For reproducibility\n",
    "treated_temperatures = np.random.normal(loc=30, scale=2, size=50)  # Mean temp = 30°C\n",
    "control_temperatures = np.random.normal(loc=32, scale=2, size=50)  # Mean temp = 32°C\n",
    "\n",
    "# Step 2: Perform an independent t-test\n",
    "# Null Hypothesis: Mean temperatures are equal\n",
    "test_stat, p_value = ttest_ind(treated_temperatures, control_temperatures)\n",
    "\n",
    "# Step 3: Interpret results\n",
    "alpha = 0.05  # Significance level\n",
    "if p_value <= alpha:\n",
    "    conclusion = \"Reject H₀: Tree planting significantly reduces local temperatures.\"\n",
    "else:\n",
    "    conclusion = \"Fail to reject H₀: No significant evidence that tree planting reduces local temperatures.\"\n",
    "\n",
    "# Output results\n",
    "print(\"Test Statistic:\", test_stat)\n",
    "print(\"P-Value:\", p_value)\n",
    "print(\"Conclusion:\", conclusion)"
   ]
  }
 ],
 "metadata": {
  "kernelspec": {
   "display_name": "base",
   "language": "python",
   "name": "python3"
  },
  "language_info": {
   "codemirror_mode": {
    "name": "ipython",
    "version": 3
   },
   "file_extension": ".py",
   "mimetype": "text/x-python",
   "name": "python",
   "nbconvert_exporter": "python",
   "pygments_lexer": "ipython3",
   "version": "3.11.7"
  }
 },
 "nbformat": 4,
 "nbformat_minor": 2
}
